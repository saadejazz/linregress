{
 "cells": [
  {
   "cell_type": "code",
   "execution_count": 3,
   "id": "dafdc81c",
   "metadata": {},
   "outputs": [],
   "source": [
    "import numpy as np\n",
    "import matplotlib.pyplot as plt\n",
    "import csv"
   ]
  },
  {
   "cell_type": "code",
   "execution_count": 302,
   "id": "90da304f",
   "metadata": {},
   "outputs": [],
   "source": [
    "file_loc = \"coding_interview_material/data/regression_train.csv\"\n",
    "\n",
    "with open(file_loc, 'r') as x:\n",
    "    data = list(csv.reader(x, delimiter = \",\"))\n",
    "\n",
    "data = np.array(data[1: ], dtype = float)[:, 1: ]\n",
    "\n",
    "n = data.shape[0]\n",
    "x = data[:, : -1]\n",
    "y = data[:, -1].reshape((n, 1))\n",
    "\n",
    "means = np.mean(x, axis = 0)\n",
    "stds = np.std(x, axis = 0) \n",
    "x = (x - means)/stds"
   ]
  },
  {
   "cell_type": "code",
   "execution_count": 220,
   "id": "bb62a114",
   "metadata": {},
   "outputs": [],
   "source": [
    "def mse(y_true, y_pred):\n",
    "    n = y_true.shape[0]\n",
    "    return (1/n) * np.sum((y_true - y_pred)**2)"
   ]
  },
  {
   "cell_type": "code",
   "execution_count": 221,
   "id": "5494c011",
   "metadata": {},
   "outputs": [],
   "source": [
    "def predict(beta, bias, x):\n",
    "    return np.matmul(x, beta) + bias"
   ]
  },
  {
   "cell_type": "code",
   "execution_count": 222,
   "id": "1be079b0",
   "metadata": {},
   "outputs": [],
   "source": [
    "def fit(x, y, l_rate = 1e-2, epochs = 1e4, rel_stop = 1e-4):\n",
    "    n = x.shape[0]\n",
    "    beta = np.zeros((x.shape[1], 1))\n",
    "    bias = 0\n",
    "    errors = []\n",
    "    \n",
    "    for i in range(int(epochs)):\n",
    "        y_pred = predict(beta, bias, x)\n",
    "        errors.append(mse(y, y_pred))\n",
    "        if i > 1:\n",
    "            rel_error = abs(errors[-2] - errors[-1])/errors[-2]\n",
    "            if rel_error < rel_stop:\n",
    "                print(f\"Convergence after {i+1} epochs\")\n",
    "                break\n",
    "            elif rel_error > 1:\n",
    "                print(f\"Learning rate too high, error diverging, reducing rate\")\n",
    "                l_rate /= 10\n",
    "        beta -= (l_rate/n * np.matmul(x.T, y_pred - y))\n",
    "        bias -= (l_rate/n * np.sum(y_pred - y))\n",
    "        \n",
    "    errors.append(mse(y, predict(beta, bias, x)))\n",
    "    print(f\"MSE: {errors[-1]}\")\n",
    "    return beta, bias, errors"
   ]
  },
  {
   "cell_type": "code",
   "execution_count": 517,
   "id": "45cba8da",
   "metadata": {},
   "outputs": [],
   "source": [
    "def fit_quad_regularized(x, y, lamda = 1, l_rate = 0.1, epochs = 1e5, rel_stop = 1e-4):\n",
    "    n = x.shape[0]\n",
    "    beta = np.zeros((x.shape[1] * 2, 1))\n",
    "    bias = 0\n",
    "    errors = []\n",
    "    x = np.hstack((x, x**2))\n",
    "    \n",
    "    for i in range(int(epochs)):\n",
    "        y_pred = predict(beta, bias, x)\n",
    "        errors.append(mse(y, y_pred))\n",
    "        if i > 1:\n",
    "            rel_error = abs(errors[-2] - errors[-1])/errors[-2]\n",
    "            if rel_error < rel_stop:\n",
    "                print(f\"Convergence after {i+1} epochs\")\n",
    "                break\n",
    "            elif rel_error > 1:\n",
    "                print(f\"Learning rate too high, error diverging, reducing rate\")\n",
    "                l_rate /= 10\n",
    "        beta -= (l_rate * (1/n * np.matmul(x.T, y_pred - y) + lamda * beta))\n",
    "        bias -= (l_rate/n * np.sum(y_pred - y))\n",
    "        \n",
    "    errors.append(mse(y, predict(beta, bias, x)))\n",
    "    print(f\"MSE: {errors[-1]}\")\n",
    "    return beta, bias, errors"
   ]
  },
  {
   "cell_type": "code",
   "execution_count": 518,
   "id": "a570d547",
   "metadata": {},
   "outputs": [
    {
     "name": "stdout",
     "output_type": "stream",
     "text": [
      "Convergence after 142 epochs\n",
      "MSE: 4.978009940609211\n"
     ]
    }
   ],
   "source": [
    "# beta, bias, errors = fit(x, y)\n",
    "beta, bias, errors = fit_quad_regularized(x, y)"
   ]
  },
  {
   "cell_type": "code",
   "execution_count": 519,
   "id": "0782d74d",
   "metadata": {},
   "outputs": [
    {
     "data": {
      "text/plain": [
       "(array([[ 0.00905922],\n",
       "        [ 1.04687001],\n",
       "        [ 0.22540585],\n",
       "        [-0.06685039],\n",
       "        [ 0.21733617],\n",
       "        [-0.05271164]]),\n",
       " 26.484313305251746)"
      ]
     },
     "execution_count": 519,
     "metadata": {},
     "output_type": "execute_result"
    }
   ],
   "source": [
    "beta, bias"
   ]
  },
  {
   "cell_type": "code",
   "execution_count": 520,
   "id": "05b566a8",
   "metadata": {},
   "outputs": [],
   "source": [
    "with open(file_loc.replace(\"train\", \"test\"), 'r') as f:\n",
    "    test = list(csv.reader(f, delimiter = \",\"))\n",
    "\n",
    "test = np.array(test[1: ], dtype = float)[:, 1: ]\n",
    "\n",
    "n_test = test.shape[0]\n",
    "x_test = test[:, : -1]\n",
    "y_test = test[:, -1].reshape((n_test, 1))\n",
    "\n",
    "x_test = (x_test - means)/stds"
   ]
  },
  {
   "cell_type": "code",
   "execution_count": 521,
   "id": "da702b43",
   "metadata": {},
   "outputs": [
    {
     "data": {
      "text/plain": [
       "array([[ 1.28125466,  0.85508321,  0.19025511],\n",
       "       [ 0.66498203, -0.07752632,  1.0081822 ],\n",
       "       [-0.90211123, -1.3169153 , -0.71855277],\n",
       "       [ 1.08756898,  0.1924396 , -0.08238726],\n",
       "       [-0.51473986, -0.10206868, -0.71855277],\n",
       "       [-0.51473986, -0.2002381 , -1.17295671],\n",
       "       [ 0.10153277, -0.40884813, -0.26414883],\n",
       "       [-0.09215292, -0.88742407, -0.71855277],\n",
       "       [-0.9549346 ,  1.78769274,  1.82610929],\n",
       "       [ 0.01349382, -0.23705163, -1.2638375 ]])"
      ]
     },
     "execution_count": 521,
     "metadata": {},
     "output_type": "execute_result"
    }
   ],
   "source": [
    "x_test"
   ]
  },
  {
   "cell_type": "code",
   "execution_count": 522,
   "id": "06dde633",
   "metadata": {},
   "outputs": [
    {
     "data": {
      "text/plain": [
       "3.06820517751827"
      ]
     },
     "execution_count": 522,
     "metadata": {},
     "output_type": "execute_result"
    }
   ],
   "source": [
    "# mse(y_test, predict(beta, bias, x_test))\n",
    "mse(y_test, predict(beta, bias, np.hstack((x_test, x_test**2))))"
   ]
  },
  {
   "cell_type": "code",
   "execution_count": 523,
   "id": "fe461a16",
   "metadata": {},
   "outputs": [
    {
     "data": {
      "text/plain": [
       "array([[ 1.58122464],\n",
       "       [ 1.3545949 ],\n",
       "       [ 1.23083532],\n",
       "       [-1.79432573],\n",
       "       [ 0.56816728],\n",
       "       [-1.77588486],\n",
       "       [ 0.02964371],\n",
       "       [ 0.33586805],\n",
       "       [ 2.21659567],\n",
       "       [-3.62059789]])"
      ]
     },
     "execution_count": 523,
     "metadata": {},
     "output_type": "execute_result"
    }
   ],
   "source": [
    "# predict(beta, bias, x_test) - y_test\n",
    "predict(beta, bias, np.hstack((x_test, x_test**2))) - y_test"
   ]
  },
  {
   "cell_type": "code",
   "execution_count": 185,
   "id": "b69e3226",
   "metadata": {},
   "outputs": [
    {
     "data": {
      "text/plain": [
       "array([[165.2,  60.3,  37. ],\n",
       "       [161.7,  52.7,  46. ],\n",
       "       [152.8,  42.6,  27. ],\n",
       "       [164.1,  54.9,  34. ],\n",
       "       [155. ,  52.5,  27. ],\n",
       "       [155. ,  51.7,  22. ],\n",
       "       [158.5,  50. ,  32. ],\n",
       "       [157.4,  46.1,  27. ],\n",
       "       [152.5,  67.9,  55. ],\n",
       "       [158. ,  51.4,  21. ]])"
      ]
     },
     "execution_count": 185,
     "metadata": {},
     "output_type": "execute_result"
    }
   ],
   "source": [
    "x_test"
   ]
  },
  {
   "cell_type": "code",
   "execution_count": null,
   "id": "3a60568b",
   "metadata": {},
   "outputs": [],
   "source": []
  }
 ],
 "metadata": {
  "kernelspec": {
   "display_name": "Python 3 (ipykernel)",
   "language": "python",
   "name": "python3"
  },
  "language_info": {
   "codemirror_mode": {
    "name": "ipython",
    "version": 3
   },
   "file_extension": ".py",
   "mimetype": "text/x-python",
   "name": "python",
   "nbconvert_exporter": "python",
   "pygments_lexer": "ipython3",
   "version": "3.8.16"
  }
 },
 "nbformat": 4,
 "nbformat_minor": 5
}
