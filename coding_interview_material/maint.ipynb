{
 "cells": [
  {
   "cell_type": "code",
   "execution_count": 1,
   "id": "9ba9ad33",
   "metadata": {},
   "outputs": [],
   "source": [
    "from linear_regression import lr_fit, lr_predict\n",
    "from linear_regression.utils import mse\n",
    "from polynomial_regression import PolynomialRegression\n",
    "import csv\n",
    "import numpy as np"
   ]
  },
  {
   "cell_type": "code",
   "execution_count": 2,
   "id": "76807dab",
   "metadata": {},
   "outputs": [
    {
     "name": "stdout",
     "output_type": "stream",
     "text": [
      "Training data with 107 records loaded\n",
      "Data features:  ID, height, weight, age\n",
      "Data label:  BicepC\n",
      "\n"
     ]
    }
   ],
   "source": [
    "# load training data from csv file\n",
    "file_loc = \"data/regression_train.csv\"\n",
    "with open(file_loc, 'r') as x:\n",
    "    data = list(csv.reader(x, delimiter = \",\"))\n",
    "\n",
    "# remove headers and convert to numbers\n",
    "headers = data[0] \n",
    "data = np.array(data[1: ], dtype = float)[:, 1: ]\n",
    "\n",
    "# number of records -> n\n",
    "n = data.shape[0]\n",
    "print(f\"Training data with {n} records loaded\")\n",
    "\n",
    "# separate data into features (x) and labels (y)\n",
    "features = data[:, : -1]\n",
    "labels = data[:, -1].reshape((n, 1))\n",
    "print(\"Data features: \", \", \".join(headers[: -1]))\n",
    "print(\"Data label: \", headers[-1])\n",
    "print(\"\")"
   ]
  },
  {
   "cell_type": "code",
   "execution_count": 3,
   "id": "8e5d7acb",
   "metadata": {},
   "outputs": [
    {
     "name": "stdout",
     "output_type": "stream",
     "text": [
      "Fitting training data to a linear regression model\n",
      "Convergence after 1875 epochs\n",
      "Mean Squared Error after training: 4.690484573994238\n",
      "\n"
     ]
    }
   ],
   "source": [
    "# use the same training data to fit a linear regression model\n",
    "print(\"Fitting training data to a linear regression model\")\n",
    "beta, bias, _ = lr_fit(features, labels)\n",
    "print(\"\")"
   ]
  },
  {
   "cell_type": "code",
   "execution_count": 4,
   "id": "d4c4b5f3",
   "metadata": {},
   "outputs": [
    {
     "name": "stdout",
     "output_type": "stream",
     "text": [
      "Fitting training data to a polynomial regression model\n",
      "Convergence after 258 epochs\n",
      "Mean Squared Error after training: 4.9875357055810445\n",
      "\n"
     ]
    }
   ],
   "source": [
    "# initialize polynomial regression with quadratic leading term\n",
    "pr = PolynomialRegression(max_power = 2)\n",
    "\n",
    "# fit model to training data using appropriate learning rate and regularization\n",
    "print(\"Fitting training data to a polynomial regression model\")\n",
    "p_beta, p_bias, _ = pr.fit(features, labels, l_rate = 0.05, lamda = 1)\n",
    "print(\"\")"
   ]
  },
  {
   "cell_type": "code",
   "execution_count": 5,
   "id": "6e29dd90",
   "metadata": {},
   "outputs": [
    {
     "name": "stdout",
     "output_type": "stream",
     "text": [
      "Testing data with 10 records loaded\n",
      "\n"
     ]
    }
   ],
   "source": [
    "# load testing data similarly to evaluate trained models\n",
    "with open(file_loc.replace(\"train\", \"test\"), 'r') as f:\n",
    "    test = list(csv.reader(f, delimiter = \",\"))\n",
    "test = np.array(test[1: ], dtype = float)[:, 1: ]\n",
    "\n",
    "n_test = test.shape[0]\n",
    "features_test = test[:, : -1]\n",
    "labels_test = test[:, -1].reshape((n_test, 1))\n",
    "print(f\"Testing data with {n_test} records loaded\")\n",
    "print(\"\")"
   ]
  },
  {
   "cell_type": "code",
   "execution_count": null,
   "id": "bb3067c4",
   "metadata": {},
   "outputs": [],
   "source": [
    "# compute predictions using the polynomial regression model\n",
    "labels_pred = pr.predict(features_test)\n",
    "\n",
    "# mean squared error as an evaluation metric\n",
    "mse(labels_test, labels_pred)"
   ]
  },
  {
   "cell_type": "code",
   "execution_count": null,
   "id": "5dba46db",
   "metadata": {},
   "outputs": [],
   "source": [
    "labels_pred = lr_predict(beta = beta, bias = bias, x = features_test)\n",
    "mse(labels_test, labels_pred)"
   ]
  },
  {
   "cell_type": "code",
   "execution_count": null,
   "id": "cb0da45a",
   "metadata": {},
   "outputs": [],
   "source": [
    "beta.shape"
   ]
  },
  {
   "cell_type": "code",
   "execution_count": null,
   "id": "d8784cbd",
   "metadata": {},
   "outputs": [],
   "source": []
  }
 ],
 "metadata": {
  "kernelspec": {
   "display_name": "Python 3 (ipykernel)",
   "language": "python",
   "name": "python3"
  },
  "language_info": {
   "codemirror_mode": {
    "name": "ipython",
    "version": 3
   },
   "file_extension": ".py",
   "mimetype": "text/x-python",
   "name": "python",
   "nbconvert_exporter": "python",
   "pygments_lexer": "ipython3",
   "version": "3.8.16"
  }
 },
 "nbformat": 4,
 "nbformat_minor": 5
}
