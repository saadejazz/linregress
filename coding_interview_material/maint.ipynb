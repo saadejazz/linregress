{
 "cells": [
  {
   "cell_type": "code",
   "execution_count": 1,
   "id": "9ba9ad33",
   "metadata": {},
   "outputs": [],
   "source": [
    "from linear_regression import lr_fit, lr_predict\n",
    "from linear_regression.utils import mse\n",
    "from polynomial_regression import PolynomialRegression\n",
    "import csv\n",
    "import numpy as np"
   ]
  },
  {
   "cell_type": "code",
   "execution_count": 2,
   "id": "76807dab",
   "metadata": {},
   "outputs": [],
   "source": [
    "file_loc = \"data/regression_train.csv\"\n",
    "\n",
    "with open(file_loc, 'r') as x:\n",
    "    data = list(csv.reader(x, delimiter = \",\"))\n",
    "\n",
    "data = np.array(data[1: ], dtype = float)[:, 1: ]\n",
    "\n",
    "n = data.shape[0]\n",
    "x = data[:, : -1]\n",
    "y = data[:, -1].reshape((n, 1))"
   ]
  },
  {
   "cell_type": "code",
   "execution_count": 8,
   "id": "8e5d7acb",
   "metadata": {},
   "outputs": [
    {
     "name": "stdout",
     "output_type": "stream",
     "text": [
      "Convergence after 142 epochs\n",
      "MSE: 4.978009940609211\n"
     ]
    }
   ],
   "source": [
    "pr = PolynomialRegression(max_power = 2)\n",
    "b = pr.fit(x, y)"
   ]
  },
  {
   "cell_type": "code",
   "execution_count": 9,
   "id": "d4c4b5f3",
   "metadata": {},
   "outputs": [
    {
     "name": "stdout",
     "output_type": "stream",
     "text": [
      "Convergence after 1875 epochs\n",
      "MSE: 4.690484573994238\n"
     ]
    }
   ],
   "source": [
    "beta, bias, _ = lr_fit(x, y)"
   ]
  },
  {
   "cell_type": "code",
   "execution_count": 10,
   "id": "6e29dd90",
   "metadata": {},
   "outputs": [],
   "source": [
    "with open(file_loc.replace(\"train\", \"test\"), 'r') as f:\n",
    "    test = list(csv.reader(f, delimiter = \",\"))\n",
    "\n",
    "test = np.array(test[1: ], dtype = float)[:, 1: ]\n",
    "\n",
    "n_test = test.shape[0]\n",
    "x_test = test[:, : -1]\n",
    "y_test = test[:, -1].reshape((n_test, 1))"
   ]
  },
  {
   "cell_type": "code",
   "execution_count": 11,
   "id": "bb3067c4",
   "metadata": {},
   "outputs": [
    {
     "data": {
      "text/plain": [
       "3.06820517751827"
      ]
     },
     "execution_count": 11,
     "metadata": {},
     "output_type": "execute_result"
    }
   ],
   "source": [
    "y_pred = pr.predict(x_test)\n",
    "mse(y_test, y_pred)"
   ]
  },
  {
   "cell_type": "code",
   "execution_count": 12,
   "id": "ab7d0c0d",
   "metadata": {},
   "outputs": [
    {
     "data": {
      "text/plain": [
       "array([[ 1.58122464],\n",
       "       [ 1.3545949 ],\n",
       "       [ 1.23083532],\n",
       "       [-1.79432573],\n",
       "       [ 0.56816728],\n",
       "       [-1.77588486],\n",
       "       [ 0.02964371],\n",
       "       [ 0.33586805],\n",
       "       [ 2.21659567],\n",
       "       [-3.62059789]])"
      ]
     },
     "execution_count": 12,
     "metadata": {},
     "output_type": "execute_result"
    }
   ],
   "source": [
    "y_pred - y_test"
   ]
  },
  {
   "cell_type": "code",
   "execution_count": 13,
   "id": "5dba46db",
   "metadata": {},
   "outputs": [
    {
     "data": {
      "text/plain": [
       "4.012897005693137"
      ]
     },
     "execution_count": 13,
     "metadata": {},
     "output_type": "execute_result"
    }
   ],
   "source": [
    "y_pred = lr_predict(beta = beta, bias = bias, x = x_test)\n",
    "mse(y_test, y_pred)"
   ]
  },
  {
   "cell_type": "code",
   "execution_count": null,
   "id": "cb0da45a",
   "metadata": {},
   "outputs": [],
   "source": []
  }
 ],
 "metadata": {
  "kernelspec": {
   "display_name": "Python 3 (ipykernel)",
   "language": "python",
   "name": "python3"
  },
  "language_info": {
   "codemirror_mode": {
    "name": "ipython",
    "version": 3
   },
   "file_extension": ".py",
   "mimetype": "text/x-python",
   "name": "python",
   "nbconvert_exporter": "python",
   "pygments_lexer": "ipython3",
   "version": "3.8.16"
  }
 },
 "nbformat": 4,
 "nbformat_minor": 5
}
